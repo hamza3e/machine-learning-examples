{
  "nbformat": 4,
  "nbformat_minor": 0,
  "metadata": {
    "colab": {
      "name": "stylegan_from_NVidia.ipynb",
      "version": "0.3.2",
      "provenance": [],
      "collapsed_sections": [],
      "include_colab_link": true
    },
    "kernelspec": {
      "name": "python3",
      "display_name": "Python 3"
    },
    "accelerator": "GPU"
  },
  "cells": [
    {
      "cell_type": "markdown",
      "metadata": {
        "id": "view-in-github",
        "colab_type": "text"
      },
      "source": [
        "<a href=\"https://colab.research.google.com/github/hamza3e/machine-learning-examples/blob/master/stylegan_example.ipynb\" target=\"_parent\"><img src=\"https://colab.research.google.com/assets/colab-badge.svg\" alt=\"Open In Colab\"/></a>"
      ]
    },
    {
      "cell_type": "markdown",
      "metadata": {
        "id": "wWlJG9WRBxwJ",
        "colab_type": "text"
      },
      "source": [
        "**NVidia's pre-trained model on github**"
      ]
    },
    {
      "cell_type": "code",
      "metadata": {
        "id": "3wWIv5q3Bt16",
        "colab_type": "code",
        "outputId": "926bec3e-e4ce-4e0c-d3cc-efd654b09c2e",
        "colab": {
          "base_uri": "https://localhost:8080/",
          "height": 94
        }
      },
      "source": [
        "!git clone https://github.com/NVlabs/stylegan.git"
      ],
      "execution_count": 0,
      "outputs": [
        {
          "output_type": "stream",
          "text": [
            "Cloning into 'stylegan'...\n",
            "remote: Enumerating objects: 77, done.\u001b[K\n",
            "remote: Total 77 (delta 0), reused 0 (delta 0), pack-reused 77\u001b[K\n",
            "Unpacking objects: 100% (77/77), done.\n"
          ],
          "name": "stdout"
        }
      ]
    },
    {
      "cell_type": "markdown",
      "metadata": {
        "id": "iBFjPyqAFJzy",
        "colab_type": "text"
      },
      "source": [
        "**adding the library to let python know**"
      ]
    },
    {
      "cell_type": "code",
      "metadata": {
        "id": "79AbnXEHCVkM",
        "colab_type": "code",
        "colab": {}
      },
      "source": [
        "import sys\n",
        "sys.path.insert(0, \"/content/stylegan\")"
      ],
      "execution_count": 0,
      "outputs": []
    },
    {
      "cell_type": "code",
      "metadata": {
        "id": "HWyV-G23MVAw",
        "colab_type": "code",
        "outputId": "bb94b67e-c8ba-47f7-c321-aa48e1cad8d8",
        "colab": {
          "base_uri": "https://localhost:8080/",
          "height": 173
        }
      },
      "source": [
        "import os\n",
        "import pickle\n",
        "import numpy as np\n",
        "import PIL.Image\n",
        "import dnnlib\n",
        "import dnnlib.tflib as tflib\n",
        "import config"
      ],
      "execution_count": 0,
      "outputs": [
        {
          "output_type": "stream",
          "text": [
            "WARNING: Logging before flag parsing goes to stderr.\n",
            "W0702 01:53:07.061587 140317385467776 deprecation_wrapper.py:119] From /content/stylegan/dnnlib/tflib/tfutil.py:34: The name tf.Dimension is deprecated. Please use tf.compat.v1.Dimension instead.\n",
            "\n",
            "W0702 01:53:07.063050 140317385467776 deprecation_wrapper.py:119] From /content/stylegan/dnnlib/tflib/tfutil.py:74: The name tf.variable_scope is deprecated. Please use tf.compat.v1.variable_scope instead.\n",
            "\n",
            "W0702 01:53:07.064054 140317385467776 deprecation_wrapper.py:119] From /content/stylegan/dnnlib/tflib/tfutil.py:128: The name tf.Session is deprecated. Please use tf.compat.v1.Session instead.\n",
            "\n"
          ],
          "name": "stderr"
        }
      ]
    },
    {
      "cell_type": "code",
      "metadata": {
        "id": "M_W8K3mCMstj",
        "colab_type": "code",
        "colab": {}
      },
      "source": [
        "# Helpers for loading and using pre-trained generators.\n",
        "\n",
        "url_ffhq        = 'https://drive.google.com/uc?id=1MEGjdvVpUsu1jB4zrXZN7Y4kBBOzizDQ' # karras2019stylegan-ffhq-1024x1024.pkl\n",
        "url_celebahq    = 'https://drive.google.com/uc?id=1MGqJl28pN4t7SAtSrPdSRJSQJqahkzUf' # karras2019stylegan-celebahq-1024x1024.pkl\n",
        "url_bedrooms    = 'https://drive.google.com/uc?id=1MOSKeGF0FJcivpBI7s63V9YHloUTORiF' # karras2019stylegan-bedrooms-256x256.pkl\n",
        "url_cars        = 'https://drive.google.com/uc?id=1MJ6iCfNtMIRicihwRorsM3b7mmtmK9c3' # karras2019stylegan-cars-512x384.pkl\n",
        "url_cats        = 'https://drive.google.com/uc?id=1MQywl0FNt6lHu8E_EUqnRbviagS7fbiJ' # karras2019stylegan-cats-256x256.pkl\n",
        "\n",
        "synthesis_kwargs = dict(output_transform=dict(func=tflib.convert_images_to_uint8, nchw_to_nhwc=True), minibatch_size=8)\n",
        "\n",
        "_Gs_cache = dict()\n",
        "\n",
        "def load_Gs(url):\n",
        "    if url not in _Gs_cache:\n",
        "        with dnnlib.util.open_url(url, cache_dir=config.cache_dir) as f:\n",
        "            _G, _D, Gs = pickle.load(f)\n",
        "        _Gs_cache[url] = Gs\n",
        "    return _Gs_cache[url]\n"
      ],
      "execution_count": 0,
      "outputs": []
    },
    {
      "cell_type": "code",
      "metadata": {
        "id": "pvFhlHAzRkc7",
        "colab_type": "code",
        "colab": {}
      },
      "source": [
        "# Figures 2, 3, 10, 11, 12: Multi-resolution grid of uncurated result images.\n",
        "\n",
        "def draw_uncurated_result_figure(png, Gs, cx, cy, cw, ch, rows, lods, seed):\n",
        "    print(png)\n",
        "    latents = np.random.RandomState(seed).randn(sum(rows * 2**lod for lod in lods), Gs.input_shape[1])\n",
        "    images = Gs.run(latents, None, **synthesis_kwargs) # [seed, y, x, rgb]\n",
        "\n",
        "    canvas = PIL.Image.new('RGB', (sum(cw // 2**lod for lod in lods), ch * rows), 'white')\n",
        "    image_iter = iter(list(images))\n",
        "    for col, lod in enumerate(lods):\n",
        "        for row in range(rows * 2**lod):\n",
        "            image = PIL.Image.fromarray(next(image_iter), 'RGB')\n",
        "            image = image.crop((cx, cy, cx + cw, cy + ch))\n",
        "            image = image.resize((cw // 2**lod, ch // 2**lod), PIL.Image.ANTIALIAS)\n",
        "            canvas.paste(image, (sum(cw // 2**lod for lod in lods[:col]), row * ch // 2**lod))\n",
        "    canvas.save(png)\n"
      ],
      "execution_count": 0,
      "outputs": []
    },
    {
      "cell_type": "code",
      "metadata": {
        "id": "ruED-EmVRlTs",
        "colab_type": "code",
        "colab": {}
      },
      "source": [
        "# Figure 3: Style mixing.\n",
        "\n",
        "def draw_style_mixing_figure(png, Gs, w, h, src_seeds, dst_seeds, style_ranges):\n",
        "    print(png)\n",
        "    src_latents = np.stack(np.random.RandomState(seed).randn(Gs.input_shape[1]) for seed in src_seeds)\n",
        "    dst_latents = np.stack(np.random.RandomState(seed).randn(Gs.input_shape[1]) for seed in dst_seeds)\n",
        "    src_dlatents = Gs.components.mapping.run(src_latents, None) # [seed, layer, component]\n",
        "    dst_dlatents = Gs.components.mapping.run(dst_latents, None) # [seed, layer, component]\n",
        "    src_images = Gs.components.synthesis.run(src_dlatents, randomize_noise=False, **synthesis_kwargs)\n",
        "    dst_images = Gs.components.synthesis.run(dst_dlatents, randomize_noise=False, **synthesis_kwargs)\n",
        "\n",
        "    canvas = PIL.Image.new('RGB', (w * (len(src_seeds) + 1), h * (len(dst_seeds) + 1)), 'white')\n",
        "    for col, src_image in enumerate(list(src_images)):\n",
        "        canvas.paste(PIL.Image.fromarray(src_image, 'RGB'), ((col + 1) * w, 0))\n",
        "    for row, dst_image in enumerate(list(dst_images)):\n",
        "        canvas.paste(PIL.Image.fromarray(dst_image, 'RGB'), (0, (row + 1) * h))\n",
        "        row_dlatents = np.stack([dst_dlatents[row]] * len(src_seeds))\n",
        "        row_dlatents[:, style_ranges[row]] = src_dlatents[:, style_ranges[row]]\n",
        "        row_images = Gs.components.synthesis.run(row_dlatents, randomize_noise=False, **synthesis_kwargs)\n",
        "        for col, image in enumerate(list(row_images)):\n",
        "            canvas.paste(PIL.Image.fromarray(image, 'RGB'), ((col + 1) * w, (row + 1) * h))\n",
        "    canvas.save(png)\n"
      ],
      "execution_count": 0,
      "outputs": []
    },
    {
      "cell_type": "code",
      "metadata": {
        "id": "upr9IjkbRow_",
        "colab_type": "code",
        "colab": {}
      },
      "source": [
        "# Figure 4: Noise detail.\n",
        "\n",
        "def draw_noise_detail_figure(png, Gs, w, h, num_samples, seeds):\n",
        "    print(png)\n",
        "    canvas = PIL.Image.new('RGB', (w * 3, h * len(seeds)), 'white')\n",
        "    for row, seed in enumerate(seeds):\n",
        "        latents = np.stack([np.random.RandomState(seed).randn(Gs.input_shape[1])] * num_samples)\n",
        "        images = Gs.run(latents, None, truncation_psi=1, **synthesis_kwargs)\n",
        "        canvas.paste(PIL.Image.fromarray(images[0], 'RGB'), (0, row * h))\n",
        "        for i in range(4):\n",
        "            crop = PIL.Image.fromarray(images[i + 1], 'RGB')\n",
        "            crop = crop.crop((650, 180, 906, 436))\n",
        "            crop = crop.resize((w//2, h//2), PIL.Image.NEAREST)\n",
        "            canvas.paste(crop, (w + (i%2) * w//2, row * h + (i//2) * h//2))\n",
        "        diff = np.std(np.mean(images, axis=3), axis=0) * 4\n",
        "        diff = np.clip(diff + 0.5, 0, 255).astype(np.uint8)\n",
        "        canvas.paste(PIL.Image.fromarray(diff, 'L'), (w * 2, row * h))\n",
        "    canvas.save(png)\n"
      ],
      "execution_count": 0,
      "outputs": []
    },
    {
      "cell_type": "code",
      "metadata": {
        "id": "YEHbGsFkRwRJ",
        "colab_type": "code",
        "colab": {}
      },
      "source": [
        "# Figure 5: Noise components.\n",
        "\n",
        "def draw_noise_components_figure(png, Gs, w, h, seeds, noise_ranges, flips):\n",
        "    print(png)\n",
        "    Gsc = Gs.clone()\n",
        "    noise_vars = [var for name, var in Gsc.components.synthesis.vars.items() if name.startswith('noise')]\n",
        "    noise_pairs = list(zip(noise_vars, tflib.run(noise_vars))) # [(var, val), ...]\n",
        "    latents = np.stack(np.random.RandomState(seed).randn(Gs.input_shape[1]) for seed in seeds)\n",
        "    all_images = []\n",
        "    for noise_range in noise_ranges:\n",
        "        tflib.set_vars({var: val * (1 if i in noise_range else 0) for i, (var, val) in enumerate(noise_pairs)})\n",
        "        range_images = Gsc.run(latents, None, truncation_psi=1, randomize_noise=False, **synthesis_kwargs)\n",
        "        range_images[flips, :, :] = range_images[flips, :, ::-1]\n",
        "        all_images.append(list(range_images))\n",
        "\n",
        "    canvas = PIL.Image.new('RGB', (w * 2, h * 2), 'white')\n",
        "    for col, col_images in enumerate(zip(*all_images)):\n",
        "        canvas.paste(PIL.Image.fromarray(col_images[0], 'RGB').crop((0, 0, w//2, h)), (col * w, 0))\n",
        "        canvas.paste(PIL.Image.fromarray(col_images[1], 'RGB').crop((w//2, 0, w, h)), (col * w + w//2, 0))\n",
        "        canvas.paste(PIL.Image.fromarray(col_images[2], 'RGB').crop((0, 0, w//2, h)), (col * w, h))\n",
        "        canvas.paste(PIL.Image.fromarray(col_images[3], 'RGB').crop((w//2, 0, w, h)), (col * w + w//2, h))\n",
        "    canvas.save(png)\n"
      ],
      "execution_count": 0,
      "outputs": []
    },
    {
      "cell_type": "code",
      "metadata": {
        "id": "4B-nYi5-R1aW",
        "colab_type": "code",
        "colab": {}
      },
      "source": [
        "# Figure 8: Truncation trick.\n",
        "\n",
        "def draw_truncation_trick_figure(png, Gs, w, h, seeds, psis):\n",
        "    print(png)\n",
        "    latents = np.stack(np.random.RandomState(seed).randn(Gs.input_shape[1]) for seed in seeds)\n",
        "    dlatents = Gs.components.mapping.run(latents, None) # [seed, layer, component]\n",
        "    dlatent_avg = Gs.get_var('dlatent_avg') # [component]\n",
        "\n",
        "    canvas = PIL.Image.new('RGB', (w * len(psis), h * len(seeds)), 'white')\n",
        "    for row, dlatent in enumerate(list(dlatents)):\n",
        "        row_dlatents = (dlatent[np.newaxis] - dlatent_avg) * np.reshape(psis, [-1, 1, 1]) + dlatent_avg\n",
        "        row_images = Gs.components.synthesis.run(row_dlatents, randomize_noise=False, **synthesis_kwargs)\n",
        "        for col, image in enumerate(list(row_images)):\n",
        "            canvas.paste(PIL.Image.fromarray(image, 'RGB'), (col * w, row * h))\n",
        "    canvas.save(png)\n"
      ],
      "execution_count": 0,
      "outputs": []
    },
    {
      "cell_type": "code",
      "metadata": {
        "id": "EAr90PTUR2N1",
        "colab_type": "code",
        "outputId": "94547c0f-9c43-4e3c-8d95-d4136e0b6850",
        "colab": {
          "base_uri": "https://localhost:8080/",
          "height": 521
        }
      },
      "source": [
        "# Main program.\n",
        "\n",
        "def main():\n",
        "    tflib.init_tf()\n",
        "    os.makedirs(config.result_dir, exist_ok=True)\n",
        "    draw_uncurated_result_figure(os.path.join(config.result_dir, 'figure02-uncurated-ffhq.png'), load_Gs(url_ffhq), cx=0, cy=0, cw=1024, ch=1024, rows=3, lods=[0,1,2,2,3,3], seed=5)\n",
        "    draw_style_mixing_figure(os.path.join(config.result_dir, 'figure03-style-mixing.png'), load_Gs(url_ffhq), w=1024, h=1024, src_seeds=[639,701,687,615,2268], dst_seeds=[888,829,1898,1733,1614,845], style_ranges=[range(0,4)]*3+[range(4,8)]*2+[range(8,18)])\n",
        "    draw_noise_detail_figure(os.path.join(config.result_dir, 'figure04-noise-detail.png'), load_Gs(url_ffhq), w=1024, h=1024, num_samples=100, seeds=[1157,1012])\n",
        "    draw_noise_components_figure(os.path.join(config.result_dir, 'figure05-noise-components.png'), load_Gs(url_ffhq), w=1024, h=1024, seeds=[1967,1555], noise_ranges=[range(0, 18), range(0, 0), range(8, 18), range(0, 8)], flips=[1])\n",
        "    draw_truncation_trick_figure(os.path.join(config.result_dir, 'figure08-truncation-trick.png'), load_Gs(url_ffhq), w=1024, h=1024, seeds=[91,388], psis=[1, 0.7, 0.5, 0, -0.5, -1])\n",
        "    draw_uncurated_result_figure(os.path.join(config.result_dir, 'figure10-uncurated-bedrooms.png'), load_Gs(url_bedrooms), cx=0, cy=0, cw=256, ch=256, rows=5, lods=[0,0,1,1,2,2,2], seed=0)\n",
        "    draw_uncurated_result_figure(os.path.join(config.result_dir, 'figure11-uncurated-cars.png'), load_Gs(url_cars), cx=0, cy=64, cw=512, ch=384, rows=4, lods=[0,1,2,2,3,3], seed=2)\n",
        "    draw_uncurated_result_figure(os.path.join(config.result_dir, 'figure12-uncurated-cats.png'), load_Gs(url_cats), cx=0, cy=0, cw=256, ch=256, rows=5, lods=[0,0,1,1,2,2,2], seed=1)\n",
        "\n",
        "#----------------------------------------------------------------------------\n",
        "\n",
        "if __name__ == \"__main__\":\n",
        "    main()\n",
        "\n",
        "#----------------------------------------------------------------------------"
      ],
      "execution_count": 0,
      "outputs": [
        {
          "output_type": "stream",
          "text": [
            "W0702 01:53:07.221372 140317385467776 deprecation_wrapper.py:119] From /content/stylegan/dnnlib/tflib/tfutil.py:97: The name tf.get_default_session is deprecated. Please use tf.compat.v1.get_default_session instead.\n",
            "\n",
            "W0702 01:53:07.231234 140317385467776 deprecation_wrapper.py:119] From /content/stylegan/dnnlib/tflib/tfutil.py:109: The name tf.set_random_seed is deprecated. Please use tf.compat.v1.set_random_seed instead.\n",
            "\n"
          ],
          "name": "stderr"
        },
        {
          "output_type": "stream",
          "text": [
            "Downloading https://drive.google.com/uc?id=1MEGjdvVpUsu1jB4zrXZN7Y4kBBOzizDQ .... done\n"
          ],
          "name": "stdout"
        },
        {
          "output_type": "stream",
          "text": [
            "W0702 01:53:19.814746 140317385467776 deprecation.py:323] From <string>:364: add_dispatch_support.<locals>.wrapper (from tensorflow.python.ops.array_ops) is deprecated and will be removed in a future version.\n",
            "Instructions for updating:\n",
            "Use tf.where in 2.0, which has the same broadcast rule as np.where\n"
          ],
          "name": "stderr"
        },
        {
          "output_type": "stream",
          "text": [
            "results/figure02-uncurated-ffhq.png\n",
            "results/figure03-style-mixing.png\n"
          ],
          "name": "stdout"
        },
        {
          "output_type": "stream",
          "text": [
            "/usr/local/lib/python3.6/dist-packages/ipykernel_launcher.py:4: FutureWarning: arrays to stack must be passed as a \"sequence\" type such as list or tuple. Support for non-sequence iterables such as generators is deprecated as of NumPy 1.16 and will raise an error in the future.\n",
            "  after removing the cwd from sys.path.\n",
            "/usr/local/lib/python3.6/dist-packages/ipykernel_launcher.py:5: FutureWarning: arrays to stack must be passed as a \"sequence\" type such as list or tuple. Support for non-sequence iterables such as generators is deprecated as of NumPy 1.16 and will raise an error in the future.\n",
            "  \"\"\"\n"
          ],
          "name": "stderr"
        },
        {
          "output_type": "stream",
          "text": [
            "results/figure04-noise-detail.png\n",
            "results/figure05-noise-components.png\n"
          ],
          "name": "stdout"
        },
        {
          "output_type": "stream",
          "text": [
            "/usr/local/lib/python3.6/dist-packages/ipykernel_launcher.py:7: FutureWarning: arrays to stack must be passed as a \"sequence\" type such as list or tuple. Support for non-sequence iterables such as generators is deprecated as of NumPy 1.16 and will raise an error in the future.\n",
            "  import sys\n"
          ],
          "name": "stderr"
        },
        {
          "output_type": "stream",
          "text": [
            "results/figure08-truncation-trick.png\n",
            "Downloading https://drive.google.com/uc?id=1MOSKeGF0FJcivpBI7s63V9YHloUTORiF .... done\n",
            "results/figure10-uncurated-bedrooms.png\n",
            "Downloading https://drive.google.com/uc?id=1MJ6iCfNtMIRicihwRorsM3b7mmtmK9c3 .... done\n",
            "results/figure11-uncurated-cars.png\n",
            "Downloading https://drive.google.com/uc?id=1MQywl0FNt6lHu8E_EUqnRbviagS7fbiJ .... done\n",
            "results/figure12-uncurated-cats.png\n"
          ],
          "name": "stdout"
        }
      ]
    }
  ]
}